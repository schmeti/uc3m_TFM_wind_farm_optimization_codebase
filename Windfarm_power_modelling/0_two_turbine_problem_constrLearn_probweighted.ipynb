{
 "cells": [
  {
   "cell_type": "markdown",
   "metadata": {},
   "source": [
    "# Notebook Containing the data generation, NN Modelling and Optimization Attempts for two windturbines"
   ]
  },
  {
   "cell_type": "code",
   "execution_count": 27,
   "metadata": {},
   "outputs": [],
   "source": [
    "### Imports\n",
    "import pandas as pd\n",
    "import matplotlib.pyplot as plt\n",
    "from sklearn.model_selection import train_test_split\n",
    "import numpy as np\n",
    "\n",
    "from pyomo import environ\n",
    "from pyomo.core import *\n",
    "import pyomo.environ as pyo\n",
    "import gurobipy\n",
    "\n",
    "import sys\n",
    "import os\n",
    "sys.path.insert(0, os.path.join(os.getcwd(), 'DistCL_code'))\n",
    "from distcl import distcl"
   ]
  },
  {
   "cell_type": "markdown",
   "metadata": {},
   "source": [
    "## Load Data"
   ]
  },
  {
   "cell_type": "code",
   "execution_count": 28,
   "metadata": {},
   "outputs": [
    {
     "data": {
      "application/vnd.microsoft.datawrangler.viewer.v0+json": {
       "columns": [
        {
         "name": "index",
         "rawType": "int64",
         "type": "integer"
        },
        {
         "name": "x_turb2",
         "rawType": "float64",
         "type": "float"
        },
        {
         "name": "y_turb2",
         "rawType": "float64",
         "type": "float"
        },
        {
         "name": "wind_speed",
         "rawType": "float64",
         "type": "float"
        },
        {
         "name": "wind_direction",
         "rawType": "float64",
         "type": "float"
        },
        {
         "name": "turbulence_intensity",
         "rawType": "float64",
         "type": "float"
        },
        {
         "name": "turbine1_power",
         "rawType": "float64",
         "type": "float"
        },
        {
         "name": "turbine2_powers",
         "rawType": "float64",
         "type": "float"
        },
        {
         "name": "farm_power",
         "rawType": "float64",
         "type": "float"
        }
       ],
       "conversionMethod": "pd.DataFrame",
       "ref": "227f327f-9169-4fb3-94ef-ef6811278f09",
       "rows": [
        [
         "0",
         "0.0",
         "0.0",
         "8.0",
         "0.0",
         "0.06",
         "1753.954459179171",
         "1753.954459179171",
         "3507.908918358342"
        ],
        [
         "1",
         "0.0",
         "0.0",
         "8.0",
         "10.0",
         "0.06",
         "1753.954459179171",
         "1753.954459179171",
         "3507.908918358342"
        ],
        [
         "2",
         "0.0",
         "0.0",
         "8.0",
         "20.0",
         "0.06",
         "1753.954459179171",
         "1753.954459179171",
         "3507.908918358342"
        ],
        [
         "3",
         "0.0",
         "0.0",
         "8.0",
         "30.0",
         "0.06",
         "1753.954459179171",
         "1753.954459179171",
         "3507.908918358342"
        ],
        [
         "4",
         "0.0",
         "0.0",
         "8.0",
         "40.0",
         "0.06",
         "1753.954459179171",
         "1753.954459179171",
         "3507.908918358342"
        ]
       ],
       "shape": {
        "columns": 8,
        "rows": 5
       }
      },
      "text/html": [
       "<div>\n",
       "<style scoped>\n",
       "    .dataframe tbody tr th:only-of-type {\n",
       "        vertical-align: middle;\n",
       "    }\n",
       "\n",
       "    .dataframe tbody tr th {\n",
       "        vertical-align: top;\n",
       "    }\n",
       "\n",
       "    .dataframe thead th {\n",
       "        text-align: right;\n",
       "    }\n",
       "</style>\n",
       "<table border=\"1\" class=\"dataframe\">\n",
       "  <thead>\n",
       "    <tr style=\"text-align: right;\">\n",
       "      <th></th>\n",
       "      <th>x_turb2</th>\n",
       "      <th>y_turb2</th>\n",
       "      <th>wind_speed</th>\n",
       "      <th>wind_direction</th>\n",
       "      <th>turbulence_intensity</th>\n",
       "      <th>turbine1_power</th>\n",
       "      <th>turbine2_powers</th>\n",
       "      <th>farm_power</th>\n",
       "    </tr>\n",
       "  </thead>\n",
       "  <tbody>\n",
       "    <tr>\n",
       "      <th>0</th>\n",
       "      <td>0.0</td>\n",
       "      <td>0.0</td>\n",
       "      <td>8.0</td>\n",
       "      <td>0.0</td>\n",
       "      <td>0.06</td>\n",
       "      <td>1753.954459</td>\n",
       "      <td>1753.954459</td>\n",
       "      <td>3507.908918</td>\n",
       "    </tr>\n",
       "    <tr>\n",
       "      <th>1</th>\n",
       "      <td>0.0</td>\n",
       "      <td>0.0</td>\n",
       "      <td>8.0</td>\n",
       "      <td>10.0</td>\n",
       "      <td>0.06</td>\n",
       "      <td>1753.954459</td>\n",
       "      <td>1753.954459</td>\n",
       "      <td>3507.908918</td>\n",
       "    </tr>\n",
       "    <tr>\n",
       "      <th>2</th>\n",
       "      <td>0.0</td>\n",
       "      <td>0.0</td>\n",
       "      <td>8.0</td>\n",
       "      <td>20.0</td>\n",
       "      <td>0.06</td>\n",
       "      <td>1753.954459</td>\n",
       "      <td>1753.954459</td>\n",
       "      <td>3507.908918</td>\n",
       "    </tr>\n",
       "    <tr>\n",
       "      <th>3</th>\n",
       "      <td>0.0</td>\n",
       "      <td>0.0</td>\n",
       "      <td>8.0</td>\n",
       "      <td>30.0</td>\n",
       "      <td>0.06</td>\n",
       "      <td>1753.954459</td>\n",
       "      <td>1753.954459</td>\n",
       "      <td>3507.908918</td>\n",
       "    </tr>\n",
       "    <tr>\n",
       "      <th>4</th>\n",
       "      <td>0.0</td>\n",
       "      <td>0.0</td>\n",
       "      <td>8.0</td>\n",
       "      <td>40.0</td>\n",
       "      <td>0.06</td>\n",
       "      <td>1753.954459</td>\n",
       "      <td>1753.954459</td>\n",
       "      <td>3507.908918</td>\n",
       "    </tr>\n",
       "  </tbody>\n",
       "</table>\n",
       "</div>"
      ],
      "text/plain": [
       "   x_turb2  y_turb2  wind_speed  wind_direction  turbulence_intensity  \\\n",
       "0      0.0      0.0         8.0             0.0                  0.06   \n",
       "1      0.0      0.0         8.0            10.0                  0.06   \n",
       "2      0.0      0.0         8.0            20.0                  0.06   \n",
       "3      0.0      0.0         8.0            30.0                  0.06   \n",
       "4      0.0      0.0         8.0            40.0                  0.06   \n",
       "\n",
       "   turbine1_power  turbine2_powers   farm_power  \n",
       "0     1753.954459      1753.954459  3507.908918  \n",
       "1     1753.954459      1753.954459  3507.908918  \n",
       "2     1753.954459      1753.954459  3507.908918  \n",
       "3     1753.954459      1753.954459  3507.908918  \n",
       "4     1753.954459      1753.954459  3507.908918  "
      ]
     },
     "execution_count": 28,
     "metadata": {},
     "output_type": "execute_result"
    }
   ],
   "source": [
    "# Load Data\n",
    "data = pd.read_csv(\"data/two_turbine_simulation_data_var_wind_dir.csv\")\n",
    "data.head()"
   ]
  },
  {
   "cell_type": "markdown",
   "metadata": {},
   "source": [
    "# Train NN and generate constraints"
   ]
  },
  {
   "cell_type": "code",
   "execution_count": 29,
   "metadata": {},
   "outputs": [],
   "source": [
    "# Test/Train Split\n",
    "train_data, temp_data = train_test_split(data, test_size=0.2, random_state=42)\n",
    "val_data, test_data = train_test_split(temp_data, test_size=0.5, random_state=42)\n",
    "\n",
    "val_ind = val_data.index\n",
    "test_ind = test_data.index"
   ]
  },
  {
   "cell_type": "code",
   "execution_count": 30,
   "metadata": {},
   "outputs": [
    {
     "name": "stdout",
     "output_type": "stream",
     "text": [
      "DistFCNN(\n",
      "  (lin_layers): ModuleList(\n",
      "    (0): Linear(in_features=4, out_features=2, bias=True)\n",
      "  )\n",
      "  (output_mean_layer): Linear(in_features=2, out_features=1, bias=True)\n",
      "  (output_sd_layer): Linear(in_features=2, out_features=1, bias=True)\n",
      "  (droput_layers): ModuleList(\n",
      "    (0): Dropout(p=0.05, inplace=False)\n",
      "  )\n",
      ")\n",
      "cpu\n",
      "epoch 0 loss 726182.0625\n",
      "NN fitting process finished with a validation GAUSSIANNLL loss of 726182.0625 in epoch 0\n"
     ]
    }
   ],
   "source": [
    "# Retrain the model with the best parameters\n",
    "cl_tool = distcl(X=data[[\"x_turb2\", \"y_turb2\", \"wind_speed\", \"wind_direction\"]],#, \"turbulence_intensity\"]],\n",
    "            y=data[\"farm_power\"], n_preds=1, val_ind=val_ind, test_ind=test_ind)\n",
    "\n",
    "model, preds_test, sd_test, y_test = cl_tool.train(n_hidden=1, n_nodes=2, iters=1, drop=0.05, learning_rate=1e-4)"
   ]
  },
  {
   "cell_type": "code",
   "execution_count": 31,
   "metadata": {},
   "outputs": [
    {
     "data": {
      "application/vnd.microsoft.datawrangler.viewer.v0+json": {
       "columns": [
        {
         "name": "index",
         "rawType": "int64",
         "type": "integer"
        },
        {
         "name": "intercept",
         "rawType": "float64",
         "type": "float"
        },
        {
         "name": "layer",
         "rawType": "int64",
         "type": "integer"
        },
        {
         "name": "node",
         "rawType": "int64",
         "type": "integer"
        },
        {
         "name": "node_0",
         "rawType": "float64",
         "type": "float"
        },
        {
         "name": "node_1",
         "rawType": "float64",
         "type": "float"
        },
        {
         "name": "node_2",
         "rawType": "float64",
         "type": "float"
        },
        {
         "name": "node_3",
         "rawType": "float64",
         "type": "float"
        }
       ],
       "conversionMethod": "pd.DataFrame",
       "ref": "ac553326-5471-4893-8902-3857ae6bd947",
       "rows": [
        [
         "0",
         "-0.05288594",
         "0",
         "0",
         "-0.0044792457",
         "0.2682218",
         "-0.415343",
         "-0.3617433"
        ],
        [
         "1",
         "0.1221206",
         "0",
         "1",
         "-0.1930626",
         "0.13407868",
         "-0.017761588",
         "0.39385948"
        ],
        [
         "0",
         "-0.6610025",
         "1",
         "0",
         "-0.20066868",
         "-0.12463875",
         null,
         null
        ],
        [
         "0",
         "0.035942912",
         "2",
         "0",
         "-0.460908",
         "-0.28150544",
         null,
         null
        ]
       ],
       "shape": {
        "columns": 7,
        "rows": 4
       }
      },
      "text/html": [
       "<div>\n",
       "<style scoped>\n",
       "    .dataframe tbody tr th:only-of-type {\n",
       "        vertical-align: middle;\n",
       "    }\n",
       "\n",
       "    .dataframe tbody tr th {\n",
       "        vertical-align: top;\n",
       "    }\n",
       "\n",
       "    .dataframe thead th {\n",
       "        text-align: right;\n",
       "    }\n",
       "</style>\n",
       "<table border=\"1\" class=\"dataframe\">\n",
       "  <thead>\n",
       "    <tr style=\"text-align: right;\">\n",
       "      <th></th>\n",
       "      <th>intercept</th>\n",
       "      <th>layer</th>\n",
       "      <th>node</th>\n",
       "      <th>node_0</th>\n",
       "      <th>node_1</th>\n",
       "      <th>node_2</th>\n",
       "      <th>node_3</th>\n",
       "    </tr>\n",
       "  </thead>\n",
       "  <tbody>\n",
       "    <tr>\n",
       "      <th>0</th>\n",
       "      <td>-0.052886</td>\n",
       "      <td>0</td>\n",
       "      <td>0</td>\n",
       "      <td>-0.004479</td>\n",
       "      <td>0.268222</td>\n",
       "      <td>-0.415343</td>\n",
       "      <td>-0.361743</td>\n",
       "    </tr>\n",
       "    <tr>\n",
       "      <th>1</th>\n",
       "      <td>0.122121</td>\n",
       "      <td>0</td>\n",
       "      <td>1</td>\n",
       "      <td>-0.193063</td>\n",
       "      <td>0.134079</td>\n",
       "      <td>-0.017762</td>\n",
       "      <td>0.393859</td>\n",
       "    </tr>\n",
       "    <tr>\n",
       "      <th>0</th>\n",
       "      <td>-0.661003</td>\n",
       "      <td>1</td>\n",
       "      <td>0</td>\n",
       "      <td>-0.200669</td>\n",
       "      <td>-0.124639</td>\n",
       "      <td>NaN</td>\n",
       "      <td>NaN</td>\n",
       "    </tr>\n",
       "    <tr>\n",
       "      <th>0</th>\n",
       "      <td>0.035943</td>\n",
       "      <td>2</td>\n",
       "      <td>0</td>\n",
       "      <td>-0.460908</td>\n",
       "      <td>-0.281505</td>\n",
       "      <td>NaN</td>\n",
       "      <td>NaN</td>\n",
       "    </tr>\n",
       "  </tbody>\n",
       "</table>\n",
       "</div>"
      ],
      "text/plain": [
       "   intercept  layer  node    node_0    node_1    node_2    node_3\n",
       "0  -0.052886      0     0 -0.004479  0.268222 -0.415343 -0.361743\n",
       "1   0.122121      0     1 -0.193063  0.134079 -0.017762  0.393859\n",
       "0  -0.661003      1     0 -0.200669 -0.124639       NaN       NaN\n",
       "0   0.035943      2     0 -0.460908 -0.281505       NaN       NaN"
      ]
     },
     "execution_count": 31,
     "metadata": {},
     "output_type": "execute_result"
    }
   ],
   "source": [
    "cons = cl_tool.constraint_build(model)\n",
    "cons.to_csv('inputs/constraints_twoturbines.csv')\n",
    "cons = pd.read_csv('inputs/constraints_twoturbines.csv', index_col=0)\n",
    "cons"
   ]
  },
  {
   "cell_type": "markdown",
   "metadata": {},
   "source": [
    "# Optimization Model\n",
    "\n",
    "\n",
    "\n",
    "### Decision Variables\n",
    "\\( x \\): x-coordinate of the second turbine relative to the first.\n",
    "\\( y \\): y-coordinate of the second turbine relative to the first.\n",
    "\n",
    "### **Objective Function**\n",
    "$$ \\max_{x, y} P(x, y) $$\n",
    "\n",
    "### Constraints\n",
    "$ x_{\\min} \\leq x \\leq x_{\\max} $\n",
    "   \n",
    "$ y_{\\min} \\leq y \\leq y_{\\max} $\n"
   ]
  },
  {
   "cell_type": "code",
   "execution_count": 32,
   "metadata": {},
   "outputs": [
    {
     "data": {
      "image/png": "[encoded data removed]",
      "text/plain": [
       "<Figure size 1000x600 with 1 Axes>"
      ]
     },
     "metadata": {},
     "output_type": "display_data"
    }
   ],
   "source": [
    "from scipy.stats import norm\n",
    "import numpy as np\n",
    "\n",
    "import matplotlib.pyplot as plt\n",
    "\n",
    "# Parameters for the normal distribution\n",
    "mean = 270\n",
    "std_dev = 60  \n",
    "x = np.arange(0, 360, 10)\n",
    "\n",
    "# Generate the PDF and truncate \n",
    "pdf = norm.pdf(x, loc=mean, scale=std_dev)\n",
    "pdf /= np.trapz(pdf, x)\n",
    "\n",
    "# merge arrays\n",
    "merged_array = np.column_stack((x, pdf))\n",
    "wind_prob_dict = {int(row[0]): row[1] for row in merged_array}\n",
    "\n",
    "\n",
    "# Plot the wind probability distribution\n",
    "plt.figure(figsize=(10, 6))\n",
    "plt.bar(wind_prob_dict.keys(), wind_prob_dict.values(), width=8, color='skyblue', edgecolor='black')\n",
    "plt.xlabel('Wind Direction (degrees)')\n",
    "plt.ylabel('Probability')\n",
    "plt.title('Wind Direction Probability Distribution')\n",
    "plt.grid(axis='y', linestyle='--', alpha=0.7)\n",
    "plt.show()\n"
   ]
  },
  {
   "cell_type": "code",
   "execution_count": 33,
   "metadata": {},
   "outputs": [
    {
     "data": {
      "application/vnd.microsoft.datawrangler.viewer.v0+json": {
       "columns": [
        {
         "name": "index",
         "rawType": "int64",
         "type": "integer"
        },
        {
         "name": "x_turb2",
         "rawType": "object",
         "type": "string"
        },
        {
         "name": "y_turb2",
         "rawType": "int64",
         "type": "integer"
        },
        {
         "name": "wind_speed",
         "rawType": "object",
         "type": "string"
        }
       ],
       "conversionMethod": "pd.DataFrame",
       "ref": "7b06d566-1b49-429c-aea6-e2114cbe2dbd",
       "rows": [
        [
         "0",
         "Alice",
         "25",
         "Paris"
        ],
        [
         "1",
         "Bob",
         "30",
         "Berlin"
        ],
        [
         "2",
         "Charlie",
         "35",
         "Rome"
        ]
       ],
       "shape": {
        "columns": 3,
        "rows": 3
       }
      },
      "text/html": [
       "<div>\n",
       "<style scoped>\n",
       "    .dataframe tbody tr th:only-of-type {\n",
       "        vertical-align: middle;\n",
       "    }\n",
       "\n",
       "    .dataframe tbody tr th {\n",
       "        vertical-align: top;\n",
       "    }\n",
       "\n",
       "    .dataframe thead th {\n",
       "        text-align: right;\n",
       "    }\n",
       "</style>\n",
       "<table border=\"1\" class=\"dataframe\">\n",
       "  <thead>\n",
       "    <tr style=\"text-align: right;\">\n",
       "      <th></th>\n",
       "      <th>x_turb2</th>\n",
       "      <th>y_turb2</th>\n",
       "      <th>wind_speed</th>\n",
       "    </tr>\n",
       "  </thead>\n",
       "  <tbody>\n",
       "    <tr>\n",
       "      <th>0</th>\n",
       "      <td>Alice</td>\n",
       "      <td>25</td>\n",
       "      <td>Paris</td>\n",
       "    </tr>\n",
       "    <tr>\n",
       "      <th>1</th>\n",
       "      <td>Bob</td>\n",
       "      <td>30</td>\n",
       "      <td>Berlin</td>\n",
       "    </tr>\n",
       "    <tr>\n",
       "      <th>2</th>\n",
       "      <td>Charlie</td>\n",
       "      <td>35</td>\n",
       "      <td>Rome</td>\n",
       "    </tr>\n",
       "  </tbody>\n",
       "</table>\n",
       "</div>"
      ],
      "text/plain": [
       "   x_turb2  y_turb2 wind_speed\n",
       "0    Alice       25      Paris\n",
       "1      Bob       30     Berlin\n",
       "2  Charlie       35       Rome"
      ]
     },
     "execution_count": 33,
     "metadata": {},
     "output_type": "execute_result"
    }
   ],
   "source": [
    "#data[[\"x_turb2\", \"y_turb2\", \"wind_speed\", \"wind_direction\"]]\n",
    "\n",
    "contextual_sample_manual = pd.DataFrame({\n",
    "    'x_turb2': ['Alice', 'Bob', 'Charlie'],\n",
    "    'y_turb2': [25, 30, 35],\n",
    "    'wind_speed': ['Paris', 'Berlin', 'Rome'],\n",
    "    'wind_speed': ['Paris', 'Berlin', 'Rome']\n",
    "})\n",
    "\n",
    "contextual_sample_manual\n"
   ]
  },
  {
   "cell_type": "code",
   "execution_count": 34,
   "metadata": {},
   "outputs": [
    {
     "name": "stdout",
     "output_type": "stream",
     "text": [
      "1\n",
      "Index(['wind_direction', 'wind_speed', 'x_turb2', 'y_turb2'], dtype='object')\n",
      "1\n",
      "Index(['wind_direction', 'wind_speed', 'x_turb2', 'y_turb2'], dtype='object')\n"
     ]
    }
   ],
   "source": [
    "from pyomo.environ import ConcreteModel, Var, Objective, Constraint, SolverFactory, minimize, value\n",
    "\n",
    "### Define the optimization model\n",
    "model = ConcreteModel()\n",
    "\n",
    "n_sc = 2\n",
    "model.W = pyo.RangeSet(1,n_sc)\n",
    "pi = [1/n_sc for i in range(n_sc)]\n",
    "\n",
    "\n",
    "contextual_sample = data[[\"x_turb2\", \"y_turb2\", \"wind_speed\", \"wind_direction\"]]#.iloc[[0]]\n",
    "model.var_ind = pyo.Set(initialize=contextual_sample.columns.sort_values())\n",
    "\n",
    "model.x = pyo.Var(model.var_ind, model.W ,within=pyo.Reals)\n",
    "model.y = pyo.Var(pyo.Any, dense=False, domain=pyo.Reals) # learned variables (demand)\n",
    "\n",
    "model.power = pyo.Var(model.W,within=pyo.Reals) # saving power per scenario\n",
    "\n",
    "\n",
    "# obj function \n",
    "def obj_expression(model):\n",
    "    return sum(pi[w-1] * model.power[w] for w in model.W)\n",
    "model.OBJ = pyo.Objective(rule=obj_expression, sense=pyo.maximize)\n",
    "\n",
    "#power generation\n",
    "def power(model, w):\n",
    "    return model.power[w] == model.y['power', 0, w]\n",
    "model.const_power = pyo.Constraint(model.W, rule=power)\n",
    "\n",
    "#constraint for fixing contextual information\n",
    "\n",
    "# Fix other contextual variables\n",
    "def fix_other_vars(model, x_ind, w):\n",
    "    if x_ind not in ['x_turb2', 'y_turb2']:\n",
    "        return model.x[x_ind, w] == contextual_sample.loc[w - 1, x_ind]\n",
    "    return pyo.Constraint.Skip\n",
    "model.const_fix_other_vars = pyo.Constraint(model.var_ind, model.W, rule=fix_other_vars)\n",
    "\n",
    "\n",
    "# Constraint to ensure x_turb2 and y_turb2 are the same across all scenarios\n",
    "def same_across_scenarios(model, var_name):\n",
    "    first_scenario = next(iter(model.W))\n",
    "    return (model.x[var_name, first_scenario] == model.x[var_name, w] for w in model.W if w != first_scenario)\n",
    "\n",
    "model.const_same_x_turb2 = pyo.ConstraintList()\n",
    "for constraint in same_across_scenarios(model, 'x_turb2'):\n",
    "    model.const_same_x_turb2.add(constraint)\n",
    "\n",
    "model.const_same_y_turb2 = pyo.ConstraintList()\n",
    "for constraint in same_across_scenarios(model, 'y_turb2'):\n",
    "    model.const_same_y_turb2.add(constraint)\n",
    "\n",
    "\n",
    "\n",
    "# ## min distance \n",
    "# # Define constraints if any (for example, minimum distance between turbines)\n",
    "# def distance_constraint(model):\n",
    "#     return ((model.x_turb2 - 0)**2 + (model.y_turb2 - 0)**2) >= 400**2 \n",
    "# model.distance_constraint = Constraint(rule=distance_constraint)\n",
    "\n",
    "### Constraint Embedding\n",
    "cl_tool.const_embed_modified(opt_model=model, constaints=cons, outcome='power', deterministic = True, n_scenarios=n_sc)\n"
   ]
  },
  {
   "cell_type": "code",
   "execution_count": 35,
   "metadata": {},
   "outputs": [
    {
     "name": "stdout",
     "output_type": "stream",
     "text": [
      "1 Set Declarations\n",
      "    var_ind : Size=1, Index=None, Ordered=Insertion\n",
      "        Key  : Dimen : Domain : Size : Members\n",
      "        None :     1 :    Any :    4 : {'wind_direction', 'wind_speed', 'x_turb2', 'y_turb2'}\n",
      "\n",
      "1 RangeSet Declarations\n",
      "    W : Dimen=1, Size=2, Bounds=(1, 2)\n",
      "        Key  : Finite : Members\n",
      "        None :   True :   [1:2]\n",
      "\n",
      "5 Var Declarations\n",
      "    power : Size=2, Index=W\n",
      "        Key : Lower : Value : Upper : Fixed : Stale : Domain\n",
      "          1 :  None :  None :  None : False :  True :  Reals\n",
      "          2 :  None :  None :  None : False :  True :  Reals\n",
      "    v : Size=4, Index=Any\n",
      "        Key                : Lower : Value : Upper : Fixed : Stale : Domain\n",
      "        ('power', 0, 0, 1) :     0 :  None :  None : False :  True : NonNegativeReals\n",
      "        ('power', 0, 0, 2) :     0 :  None :  None : False :  True : NonNegativeReals\n",
      "        ('power', 0, 1, 1) :     0 :  None :  None : False :  True : NonNegativeReals\n",
      "        ('power', 0, 1, 2) :     0 :  None :  None : False :  True : NonNegativeReals\n",
      "    v_ind : Size=6, Index=Any\n",
      "        Key                : Lower : Value : Upper : Fixed : Stale : Domain\n",
      "        ('power', 0, 0, 0) :     0 :  None :     1 : False :  True : Binary\n",
      "        ('power', 0, 0, 1) :     0 :  None :     1 : False :  True : Binary\n",
      "        ('power', 0, 0, 2) :     0 :  None :     1 : False :  True : Binary\n",
      "        ('power', 0, 1, 0) :     0 :  None :     1 : False :  True : Binary\n",
      "        ('power', 0, 1, 1) :     0 :  None :     1 : False :  True : Binary\n",
      "        ('power', 0, 1, 2) :     0 :  None :     1 : False :  True : Binary\n",
      "    x : Size=8, Index=var_ind*W\n",
      "        Key                   : Lower : Value : Upper : Fixed : Stale : Domain\n",
      "        ('wind_direction', 1) :  None :  None :  None : False :  True :  Reals\n",
      "        ('wind_direction', 2) :  None :  None :  None : False :  True :  Reals\n",
      "            ('wind_speed', 1) :  None :  None :  None : False :  True :  Reals\n",
      "            ('wind_speed', 2) :  None :  None :  None : False :  True :  Reals\n",
      "               ('x_turb2', 1) :  None :  None :  None : False :  True :  Reals\n",
      "               ('x_turb2', 2) :  None :  None :  None : False :  True :  Reals\n",
      "               ('y_turb2', 1) :  None :  None :  None : False :  True :  Reals\n",
      "               ('y_turb2', 2) :  None :  None :  None : False :  True :  Reals\n",
      "    y : Size=6, Index=Any\n",
      "        Key                  : Lower : Value : Upper : Fixed : Stale : Domain\n",
      "             ('power', 0, 1) :  None :  None :  None : False :  True :  Reals\n",
      "             ('power', 0, 2) :  None :  None :  None : False :  True :  Reals\n",
      "        ('power', 1, 'mean') :  None :  None :  None : False :  True :  Reals\n",
      "          ('power', 1, 'sd') :  None :  None :  None : False :  True :  Reals\n",
      "        ('power', 2, 'mean') :  None :  None :  None : False :  True :  Reals\n",
      "          ('power', 2, 'sd') :  None :  None :  None : False :  True :  Reals\n",
      "\n",
      "1 Objective Declarations\n",
      "    OBJ : Size=1, Index=None, Active=True\n",
      "        Key  : Active : Sense    : Expression\n",
      "        None :   True : maximize : 0.5*power[1] + 0.5*power[2]\n",
      "\n",
      "22 Constraint Declarations\n",
      "    Mean_est1 : Size=1, Index=None, Active=True\n",
      "        Key  : Lower : Body                                                                                   : Upper : Active\n",
      "        None :   0.0 : y[power,1,mean] - (-0.20066868*v[power,0,0,1] - 0.12463875*v[power,0,1,1] - 0.6610025) :   0.0 :   True\n",
      "    Mean_est2 : Size=1, Index=None, Active=True\n",
      "        Key  : Lower : Body                                                                                   : Upper : Active\n",
      "        None :   0.0 : y[power,2,mean] - (-0.20066868*v[power,0,0,2] - 0.12463875*v[power,0,1,2] - 0.6610025) :   0.0 :   True\n",
      "    Var_est1 : Size=1, Index=None, Active=True\n",
      "        Key  : Lower : Body                                                                                 : Upper : Active\n",
      "        None :   0.0 : y[power,1,sd] - (-0.460908*v[power,0,0,1] - 0.28150544*v[power,0,1,1] + 0.035942912) :   0.0 :   True\n",
      "    Var_est2 : Size=1, Index=None, Active=True\n",
      "        Key  : Lower : Body                                                                                 : Upper : Active\n",
      "        None :   0.0 : y[power,2,sd] - (-0.460908*v[power,0,0,2] - 0.28150544*v[power,0,1,2] + 0.035942912) :   0.0 :   True\n",
      "    const_fix_other_vars : Size=4, Index=var_ind*W, Active=True\n",
      "        Key                   : Lower : Body                : Upper : Active\n",
      "        ('wind_direction', 1) :   0.0 : x[wind_direction,1] :   0.0 :   True\n",
      "        ('wind_direction', 2) :  10.0 : x[wind_direction,2] :  10.0 :   True\n",
      "            ('wind_speed', 1) :   8.0 :     x[wind_speed,1] :   8.0 :   True\n",
      "            ('wind_speed', 2) :   8.0 :     x[wind_speed,2] :   8.0 :   True\n",
      "    const_power : Size=2, Index=W, Active=True\n",
      "        Key : Lower : Body                    : Upper : Active\n",
      "          1 :   0.0 : power[1] - y[power,0,1] :   0.0 :   True\n",
      "          2 :   0.0 : power[2] - y[power,0,2] :   0.0 :   True\n",
      "    const_same_x_turb2 : Size=1, Index={1}, Active=True\n",
      "        Key : Lower : Body                        : Upper : Active\n",
      "          1 :   0.0 : x[x_turb2,1] - x[x_turb2,2] :   0.0 :   True\n",
      "    const_same_y_turb2 : Size=1, Index={1}, Active=True\n",
      "        Key : Lower : Body                        : Upper : Active\n",
      "          1 :   0.0 : x[y_turb2,1] - x[y_turb2,2] :   0.0 :   True\n",
      "    constraint_1_layer0_node0_sce1power : Size=1, Index=None, Active=True\n",
      "        Key  : Lower : Body                                                                                                                                                                                                                                                                              : Upper : Active\n",
      "        None :  -Inf : (x[wind_direction,1] - 174.94340720368118)/103.9914564268108*-0.0044792457 + (x[wind_speed,1] - 8.0)*0.2682218 + (x[x_turb2,1] - 2499.988099645634)/1456.890915312115*-0.415343 + (x[y_turb2,1] - 299.70778018723223)/187.14182453240633*-0.3617433 - 0.05288594 - v[power,0,0,1] :   0.0 :   True\n",
      "    constraint_1_layer0_node0_sce2power : Size=1, Index=None, Active=True\n",
      "        Key  : Lower : Body                                                                                                                                                                                                                                                                              : Upper : Active\n",
      "        None :  -Inf : (x[wind_direction,2] - 174.94340720368118)/103.9914564268108*-0.0044792457 + (x[wind_speed,2] - 8.0)*0.2682218 + (x[x_turb2,2] - 2499.988099645634)/1456.890915312115*-0.415343 + (x[y_turb2,2] - 299.70778018723223)/187.14182453240633*-0.3617433 - 0.05288594 - v[power,0,0,2] :   0.0 :   True\n",
      "    constraint_1_layer0_node1_sce1power : Size=1, Index=None, Active=True\n",
      "        Key  : Lower : Body                                                                                                                                                                                                                                                                              : Upper : Active\n",
      "        None :  -Inf : (x[wind_direction,1] - 174.94340720368118)/103.9914564268108*-0.1930626 + (x[wind_speed,1] - 8.0)*0.13407868 + (x[x_turb2,1] - 2499.988099645634)/1456.890915312115*-0.017761588 + (x[y_turb2,1] - 299.70778018723223)/187.14182453240633*0.39385948 + 0.1221206 - v[power,0,1,1] :   0.0 :   True\n",
      "    constraint_1_layer0_node1_sce2power : Size=1, Index=None, Active=True\n",
      "        Key  : Lower : Body                                                                                                                                                                                                                                                                              : Upper : Active\n",
      "        None :  -Inf : (x[wind_direction,2] - 174.94340720368118)/103.9914564268108*-0.1930626 + (x[wind_speed,2] - 8.0)*0.13407868 + (x[x_turb2,2] - 2499.988099645634)/1456.890915312115*-0.017761588 + (x[y_turb2,2] - 299.70778018723223)/187.14182453240633*0.39385948 + 0.1221206 - v[power,0,1,2] :   0.0 :   True\n",
      "    constraint_2_layer0_node0_sce1power : Size=1, Index=None, Active=True\n",
      "        Key  : Lower : Body                                       : Upper : Active\n",
      "        None :  -Inf : v[power,0,0,1] - 1000.0*v_ind[power,0,0,1] :   0.0 :   True\n",
      "    constraint_2_layer0_node0_sce2power : Size=1, Index=None, Active=True\n",
      "        Key  : Lower : Body                                       : Upper : Active\n",
      "        None :  -Inf : v[power,0,0,2] - 1000.0*v_ind[power,0,0,2] :   0.0 :   True\n",
      "    constraint_2_layer0_node1_sce1power : Size=1, Index=None, Active=True\n",
      "        Key  : Lower : Body                                       : Upper : Active\n",
      "        None :  -Inf : v[power,0,1,1] - 1000.0*v_ind[power,0,1,1] :   0.0 :   True\n",
      "    constraint_2_layer0_node1_sce2power : Size=1, Index=None, Active=True\n",
      "        Key  : Lower : Body                                       : Upper : Active\n",
      "        None :  -Inf : v[power,0,1,2] - 1000.0*v_ind[power,0,1,2] :   0.0 :   True\n",
      "    constraint_3_layer0_node0_sce1power : Size=1, Index=None, Active=True\n",
      "        Key  : Lower : Body                                                                                                                                                                                                                                                                                                                  : Upper : Active\n",
      "        None :  -Inf : v[power,0,0,1] - ((x[wind_direction,1] - 174.94340720368118)/103.9914564268108*-0.0044792457 + (x[wind_speed,1] - 8.0)*0.2682218 + (x[x_turb2,1] - 2499.988099645634)/1456.890915312115*-0.415343 + (x[y_turb2,1] - 299.70778018723223)/187.14182453240633*-0.3617433 - 0.05288594 + 1000.0*(1 - v_ind[power,0,0,0])) :   0.0 :   True\n",
      "    constraint_3_layer0_node0_sce2power : Size=1, Index=None, Active=True\n",
      "        Key  : Lower : Body                                                                                                                                                                                                                                                                                                                  : Upper : Active\n",
      "        None :  -Inf : v[power,0,0,2] - ((x[wind_direction,2] - 174.94340720368118)/103.9914564268108*-0.0044792457 + (x[wind_speed,2] - 8.0)*0.2682218 + (x[x_turb2,2] - 2499.988099645634)/1456.890915312115*-0.415343 + (x[y_turb2,2] - 299.70778018723223)/187.14182453240633*-0.3617433 - 0.05288594 + 1000.0*(1 - v_ind[power,0,0,0])) :   0.0 :   True\n",
      "    constraint_3_layer0_node1_sce1power : Size=1, Index=None, Active=True\n",
      "        Key  : Lower : Body                                                                                                                                                                                                                                                                                                                  : Upper : Active\n",
      "        None :  -Inf : v[power,0,1,1] - ((x[wind_direction,1] - 174.94340720368118)/103.9914564268108*-0.1930626 + (x[wind_speed,1] - 8.0)*0.13407868 + (x[x_turb2,1] - 2499.988099645634)/1456.890915312115*-0.017761588 + (x[y_turb2,1] - 299.70778018723223)/187.14182453240633*0.39385948 + 0.1221206 + 1000.0*(1 - v_ind[power,0,1,0])) :   0.0 :   True\n",
      "    constraint_3_layer0_node1_sce2power : Size=1, Index=None, Active=True\n",
      "        Key  : Lower : Body                                                                                                                                                                                                                                                                                                                  : Upper : Active\n",
      "        None :  -Inf : v[power,0,1,2] - ((x[wind_direction,2] - 174.94340720368118)/103.9914564268108*-0.1930626 + (x[wind_speed,2] - 8.0)*0.13407868 + (x[x_turb2,2] - 2499.988099645634)/1456.890915312115*-0.017761588 + (x[y_turb2,2] - 299.70778018723223)/187.14182453240633*0.39385948 + 0.1221206 + 1000.0*(1 - v_ind[power,0,1,0])) :   0.0 :   True\n",
      "    power_pred0_sce1 : Size=1, Index=None, Active=True\n",
      "        Key  : Lower : Body                                                                    : Upper : Active\n",
      "        None :   0.0 : y[power,0,1] - (178.20029478861457*y[power,1,mean] + 3468.382009611472) :   0.0 :   True\n",
      "    power_pred0_sce2 : Size=1, Index=None, Active=True\n",
      "        Key  : Lower : Body                                                                    : Upper : Active\n",
      "        None :   0.0 : y[power,0,2] - (178.20029478861457*y[power,2,mean] + 3468.382009611472) :   0.0 :   True\n",
      "\n",
      "30 Declarations: W var_ind x y power OBJ const_power const_fix_other_vars const_same_x_turb2 const_same_y_turb2 v v_ind constraint_1_layer0_node0_sce1power constraint_2_layer0_node0_sce1power constraint_3_layer0_node0_sce1power constraint_1_layer0_node1_sce1power constraint_2_layer0_node1_sce1power constraint_3_layer0_node1_sce1power Mean_est1 Var_est1 constraint_1_layer0_node0_sce2power constraint_2_layer0_node0_sce2power constraint_3_layer0_node0_sce2power constraint_1_layer0_node1_sce2power constraint_2_layer0_node1_sce2power constraint_3_layer0_node1_sce2power Mean_est2 Var_est2 power_pred0_sce1 power_pred0_sce2\n"
     ]
    }
   ],
   "source": [
    "model.pprint()"
   ]
  },
  {
   "cell_type": "code",
   "execution_count": 36,
   "metadata": {},
   "outputs": [
    {
     "name": "stdout",
     "output_type": "stream",
     "text": [
      "Read LP format model from file /var/folders/2j/t8d8dcsn1tg5sc8l4kz4_4ch0000gn/T/tmpxv58r309.pyomo.lp\n",
      "Reading time = 0.00 seconds\n",
      "x1: 26 rows, 26 columns, 80 nonzeros\n",
      "Set parameter Threads to value 8\n",
      "Set parameter NonConvex to value 2\n",
      "Gurobi Optimizer version 12.0.1 build v12.0.1rc0 (mac64[x86] - Darwin 24.4.0 24E263)\n",
      "\n",
      "CPU model: Intel(R) Core(TM) i7-9750H CPU @ 2.60GHz\n",
      "Thread count: 6 physical cores, 12 logical processors, using up to 8 threads\n",
      "\n",
      "Non-default parameters:\n",
      "NonConvex  2\n",
      "Threads  8\n",
      "\n",
      "Optimize a model with 26 rows, 26 columns and 80 nonzeros\n",
      "Model fingerprint: 0x8d67b6f8\n",
      "Variable types: 20 continuous, 6 integer (6 binary)\n",
      "Coefficient statistics:\n",
      "  Matrix range     [1e-05, 1e+03]\n",
      "  Objective range  [5e-01, 5e-01]\n",
      "  Bounds range     [1e+00, 1e+00]\n",
      "  RHS range        [4e-02, 3e+03]\n",
      "Presolve removed 18 rows and 20 columns\n",
      "Presolve time: 0.00s\n",
      "Presolved: 8 rows, 6 columns, 24 nonzeros\n",
      "Variable types: 6 continuous, 0 integer (0 binary)\n",
      "\n",
      "Root relaxation: objective 3.350591e+03, 2 iterations, 0.00 seconds (0.00 work units)\n",
      "\n",
      "    Nodes    |    Current Node    |     Objective Bounds      |     Work\n",
      " Expl Unexpl |  Obj  Depth IntInf | Incumbent    BestBd   Gap | It/Node Time\n",
      "\n",
      "*    0     0               0    3350.5911693 3350.59117  0.00%     -    0s\n",
      "\n",
      "Explored 1 nodes (2 simplex iterations) in 0.00 seconds (0.00 work units)\n",
      "Thread count was 8 (of 12 available processors)\n",
      "\n",
      "Solution count 1: 3350.59 \n",
      "\n",
      "Optimal solution found (tolerance 1.00e-04)\n",
      "Best objective 3.350591169255e+03, best bound 3.350591169255e+03, gap 0.0000%\n"
     ]
    }
   ],
   "source": [
    "\n",
    "# Solve the optimization problem\n",
    "solver = SolverFactory('gurobi')\n",
    "solver.options['threads'] = 8\n",
    "solver.options['NonConvex'] = 2\n",
    "results = solver.solve(model, tee=True)"
   ]
  },
  {
   "cell_type": "code",
   "execution_count": 37,
   "metadata": {},
   "outputs": [
    {
     "name": "stdout",
     "output_type": "stream",
     "text": [
      "1 Set Declarations\n",
      "    var_ind : Size=1, Index=None, Ordered=Insertion\n",
      "        Key  : Dimen : Domain : Size : Members\n",
      "        None :     1 :    Any :    4 : {'wind_direction', 'wind_speed', 'x_turb2', 'y_turb2'}\n",
      "\n",
      "1 RangeSet Declarations\n",
      "    W : Dimen=1, Size=2, Bounds=(1, 2)\n",
      "        Key  : Finite : Members\n",
      "        None :   True :   [1:2]\n",
      "\n",
      "5 Var Declarations\n",
      "    power : Size=2, Index=W\n",
      "        Key : Lower : Value              : Upper : Fixed : Stale : Domain\n",
      "          1 :  None : 3350.5911692554605 :  None : False : False :  Reals\n",
      "          2 :  None : 3350.5911692554605 :  None : False : False :  Reals\n",
      "    v : Size=4, Index=Any\n",
      "        Key                : Lower : Value : Upper : Fixed : Stale : Domain\n",
      "        ('power', 0, 0, 1) :     0 :   0.0 :  None : False : False : NonNegativeReals\n",
      "        ('power', 0, 0, 2) :     0 :   0.0 :  None : False : False : NonNegativeReals\n",
      "        ('power', 0, 1, 1) :     0 :   0.0 :  None : False : False : NonNegativeReals\n",
      "        ('power', 0, 1, 2) :     0 :   0.0 :  None : False : False : NonNegativeReals\n",
      "    v_ind : Size=6, Index=Any\n",
      "        Key                : Lower : Value : Upper : Fixed : Stale : Domain\n",
      "        ('power', 0, 0, 0) :     0 :   0.0 :     1 : False : False : Binary\n",
      "        ('power', 0, 0, 1) :     0 :   1.0 :     1 : False : False : Binary\n",
      "        ('power', 0, 0, 2) :     0 :   1.0 :     1 : False : False : Binary\n",
      "        ('power', 0, 1, 0) :     0 :   0.0 :     1 : False : False : Binary\n",
      "        ('power', 0, 1, 1) :     0 :   1.0 :     1 : False : False : Binary\n",
      "        ('power', 0, 1, 2) :     0 :   1.0 :     1 : False : False : Binary\n",
      "    x : Size=8, Index=var_ind*W\n",
      "        Key                   : Lower : Value              : Upper : Fixed : Stale : Domain\n",
      "        ('wind_direction', 1) :  None :                0.0 :  None : False : False :  Reals\n",
      "        ('wind_direction', 2) :  None :               10.0 :  None : False : False :  Reals\n",
      "            ('wind_speed', 1) :  None :                8.0 :  None : False : False :  Reals\n",
      "            ('wind_speed', 2) :  None :                8.0 :  None : False : False :  Reals\n",
      "               ('x_turb2', 1) :  None : 3732.2937033221115 :  None : False : False :  Reals\n",
      "               ('x_turb2', 2) :  None : 3732.2937033221115 :  None : False : False :  Reals\n",
      "               ('y_turb2', 1) :  None :   94.4988418337002 :  None : False : False :  Reals\n",
      "               ('y_turb2', 2) :  None :   94.4988418337002 :  None : False : False :  Reals\n",
      "    y : Size=6, Index=Any\n",
      "        Key                  : Lower : Value              : Upper : Fixed : Stale : Domain\n",
      "             ('power', 0, 1) :  None : 3350.5911692554605 :  None : False : False :  Reals\n",
      "             ('power', 0, 2) :  None : 3350.5911692554605 :  None : False : False :  Reals\n",
      "        ('power', 1, 'mean') :  None :         -0.6610025 :  None : False : False :  Reals\n",
      "          ('power', 1, 'sd') :  None :        0.035942912 :  None : False : False :  Reals\n",
      "        ('power', 2, 'mean') :  None :         -0.6610025 :  None : False : False :  Reals\n",
      "          ('power', 2, 'sd') :  None :        0.035942912 :  None : False : False :  Reals\n",
      "\n",
      "1 Objective Declarations\n",
      "    OBJ : Size=1, Index=None, Active=True\n",
      "        Key  : Active : Sense    : Expression\n",
      "        None :   True : maximize : 0.5*power[1] + 0.5*power[2]\n",
      "\n",
      "22 Constraint Declarations\n",
      "    Mean_est1 : Size=1, Index=None, Active=True\n",
      "        Key  : Lower : Body                                                                                   : Upper : Active\n",
      "        None :   0.0 : y[power,1,mean] - (-0.20066868*v[power,0,0,1] - 0.12463875*v[power,0,1,1] - 0.6610025) :   0.0 :   True\n",
      "    Mean_est2 : Size=1, Index=None, Active=True\n",
      "        Key  : Lower : Body                                                                                   : Upper : Active\n",
      "        None :   0.0 : y[power,2,mean] - (-0.20066868*v[power,0,0,2] - 0.12463875*v[power,0,1,2] - 0.6610025) :   0.0 :   True\n",
      "    Var_est1 : Size=1, Index=None, Active=True\n",
      "        Key  : Lower : Body                                                                                 : Upper : Active\n",
      "        None :   0.0 : y[power,1,sd] - (-0.460908*v[power,0,0,1] - 0.28150544*v[power,0,1,1] + 0.035942912) :   0.0 :   True\n",
      "    Var_est2 : Size=1, Index=None, Active=True\n",
      "        Key  : Lower : Body                                                                                 : Upper : Active\n",
      "        None :   0.0 : y[power,2,sd] - (-0.460908*v[power,0,0,2] - 0.28150544*v[power,0,1,2] + 0.035942912) :   0.0 :   True\n",
      "    const_fix_other_vars : Size=4, Index=var_ind*W, Active=True\n",
      "        Key                   : Lower : Body                : Upper : Active\n",
      "        ('wind_direction', 1) :   0.0 : x[wind_direction,1] :   0.0 :   True\n",
      "        ('wind_direction', 2) :  10.0 : x[wind_direction,2] :  10.0 :   True\n",
      "            ('wind_speed', 1) :   8.0 :     x[wind_speed,1] :   8.0 :   True\n",
      "            ('wind_speed', 2) :   8.0 :     x[wind_speed,2] :   8.0 :   True\n",
      "    const_power : Size=2, Index=W, Active=True\n",
      "        Key : Lower : Body                    : Upper : Active\n",
      "          1 :   0.0 : power[1] - y[power,0,1] :   0.0 :   True\n",
      "          2 :   0.0 : power[2] - y[power,0,2] :   0.0 :   True\n",
      "    const_same_x_turb2 : Size=1, Index={1}, Active=True\n",
      "        Key : Lower : Body                        : Upper : Active\n",
      "          1 :   0.0 : x[x_turb2,1] - x[x_turb2,2] :   0.0 :   True\n",
      "    const_same_y_turb2 : Size=1, Index={1}, Active=True\n",
      "        Key : Lower : Body                        : Upper : Active\n",
      "          1 :   0.0 : x[y_turb2,1] - x[y_turb2,2] :   0.0 :   True\n",
      "    constraint_1_layer0_node0_sce1power : Size=1, Index=None, Active=True\n",
      "        Key  : Lower : Body                                                                                                                                                                                                                                                                              : Upper : Active\n",
      "        None :  -Inf : (x[wind_direction,1] - 174.94340720368118)/103.9914564268108*-0.0044792457 + (x[wind_speed,1] - 8.0)*0.2682218 + (x[x_turb2,1] - 2499.988099645634)/1456.890915312115*-0.415343 + (x[y_turb2,1] - 299.70778018723223)/187.14182453240633*-0.3617433 - 0.05288594 - v[power,0,0,1] :   0.0 :   True\n",
      "    constraint_1_layer0_node0_sce2power : Size=1, Index=None, Active=True\n",
      "        Key  : Lower : Body                                                                                                                                                                                                                                                                              : Upper : Active\n",
      "        None :  -Inf : (x[wind_direction,2] - 174.94340720368118)/103.9914564268108*-0.0044792457 + (x[wind_speed,2] - 8.0)*0.2682218 + (x[x_turb2,2] - 2499.988099645634)/1456.890915312115*-0.415343 + (x[y_turb2,2] - 299.70778018723223)/187.14182453240633*-0.3617433 - 0.05288594 - v[power,0,0,2] :   0.0 :   True\n",
      "    constraint_1_layer0_node1_sce1power : Size=1, Index=None, Active=True\n",
      "        Key  : Lower : Body                                                                                                                                                                                                                                                                              : Upper : Active\n",
      "        None :  -Inf : (x[wind_direction,1] - 174.94340720368118)/103.9914564268108*-0.1930626 + (x[wind_speed,1] - 8.0)*0.13407868 + (x[x_turb2,1] - 2499.988099645634)/1456.890915312115*-0.017761588 + (x[y_turb2,1] - 299.70778018723223)/187.14182453240633*0.39385948 + 0.1221206 - v[power,0,1,1] :   0.0 :   True\n",
      "    constraint_1_layer0_node1_sce2power : Size=1, Index=None, Active=True\n",
      "        Key  : Lower : Body                                                                                                                                                                                                                                                                              : Upper : Active\n",
      "        None :  -Inf : (x[wind_direction,2] - 174.94340720368118)/103.9914564268108*-0.1930626 + (x[wind_speed,2] - 8.0)*0.13407868 + (x[x_turb2,2] - 2499.988099645634)/1456.890915312115*-0.017761588 + (x[y_turb2,2] - 299.70778018723223)/187.14182453240633*0.39385948 + 0.1221206 - v[power,0,1,2] :   0.0 :   True\n",
      "    constraint_2_layer0_node0_sce1power : Size=1, Index=None, Active=True\n",
      "        Key  : Lower : Body                                       : Upper : Active\n",
      "        None :  -Inf : v[power,0,0,1] - 1000.0*v_ind[power,0,0,1] :   0.0 :   True\n",
      "    constraint_2_layer0_node0_sce2power : Size=1, Index=None, Active=True\n",
      "        Key  : Lower : Body                                       : Upper : Active\n",
      "        None :  -Inf : v[power,0,0,2] - 1000.0*v_ind[power,0,0,2] :   0.0 :   True\n",
      "    constraint_2_layer0_node1_sce1power : Size=1, Index=None, Active=True\n",
      "        Key  : Lower : Body                                       : Upper : Active\n",
      "        None :  -Inf : v[power,0,1,1] - 1000.0*v_ind[power,0,1,1] :   0.0 :   True\n",
      "    constraint_2_layer0_node1_sce2power : Size=1, Index=None, Active=True\n",
      "        Key  : Lower : Body                                       : Upper : Active\n",
      "        None :  -Inf : v[power,0,1,2] - 1000.0*v_ind[power,0,1,2] :   0.0 :   True\n",
      "    constraint_3_layer0_node0_sce1power : Size=1, Index=None, Active=True\n",
      "        Key  : Lower : Body                                                                                                                                                                                                                                                                                                                  : Upper : Active\n",
      "        None :  -Inf : v[power,0,0,1] - ((x[wind_direction,1] - 174.94340720368118)/103.9914564268108*-0.0044792457 + (x[wind_speed,1] - 8.0)*0.2682218 + (x[x_turb2,1] - 2499.988099645634)/1456.890915312115*-0.415343 + (x[y_turb2,1] - 299.70778018723223)/187.14182453240633*-0.3617433 - 0.05288594 + 1000.0*(1 - v_ind[power,0,0,0])) :   0.0 :   True\n",
      "    constraint_3_layer0_node0_sce2power : Size=1, Index=None, Active=True\n",
      "        Key  : Lower : Body                                                                                                                                                                                                                                                                                                                  : Upper : Active\n",
      "        None :  -Inf : v[power,0,0,2] - ((x[wind_direction,2] - 174.94340720368118)/103.9914564268108*-0.0044792457 + (x[wind_speed,2] - 8.0)*0.2682218 + (x[x_turb2,2] - 2499.988099645634)/1456.890915312115*-0.415343 + (x[y_turb2,2] - 299.70778018723223)/187.14182453240633*-0.3617433 - 0.05288594 + 1000.0*(1 - v_ind[power,0,0,0])) :   0.0 :   True\n",
      "    constraint_3_layer0_node1_sce1power : Size=1, Index=None, Active=True\n",
      "        Key  : Lower : Body                                                                                                                                                                                                                                                                                                                  : Upper : Active\n",
      "        None :  -Inf : v[power,0,1,1] - ((x[wind_direction,1] - 174.94340720368118)/103.9914564268108*-0.1930626 + (x[wind_speed,1] - 8.0)*0.13407868 + (x[x_turb2,1] - 2499.988099645634)/1456.890915312115*-0.017761588 + (x[y_turb2,1] - 299.70778018723223)/187.14182453240633*0.39385948 + 0.1221206 + 1000.0*(1 - v_ind[power,0,1,0])) :   0.0 :   True\n",
      "    constraint_3_layer0_node1_sce2power : Size=1, Index=None, Active=True\n",
      "        Key  : Lower : Body                                                                                                                                                                                                                                                                                                                  : Upper : Active\n",
      "        None :  -Inf : v[power,0,1,2] - ((x[wind_direction,2] - 174.94340720368118)/103.9914564268108*-0.1930626 + (x[wind_speed,2] - 8.0)*0.13407868 + (x[x_turb2,2] - 2499.988099645634)/1456.890915312115*-0.017761588 + (x[y_turb2,2] - 299.70778018723223)/187.14182453240633*0.39385948 + 0.1221206 + 1000.0*(1 - v_ind[power,0,1,0])) :   0.0 :   True\n",
      "    power_pred0_sce1 : Size=1, Index=None, Active=True\n",
      "        Key  : Lower : Body                                                                    : Upper : Active\n",
      "        None :   0.0 : y[power,0,1] - (178.20029478861457*y[power,1,mean] + 3468.382009611472) :   0.0 :   True\n",
      "    power_pred0_sce2 : Size=1, Index=None, Active=True\n",
      "        Key  : Lower : Body                                                                    : Upper : Active\n",
      "        None :   0.0 : y[power,0,2] - (178.20029478861457*y[power,2,mean] + 3468.382009611472) :   0.0 :   True\n",
      "\n",
      "30 Declarations: W var_ind x y power OBJ const_power const_fix_other_vars const_same_x_turb2 const_same_y_turb2 v v_ind constraint_1_layer0_node0_sce1power constraint_2_layer0_node0_sce1power constraint_3_layer0_node0_sce1power constraint_1_layer0_node1_sce1power constraint_2_layer0_node1_sce1power constraint_3_layer0_node1_sce1power Mean_est1 Var_est1 constraint_1_layer0_node0_sce2power constraint_2_layer0_node0_sce2power constraint_3_layer0_node0_sce2power constraint_1_layer0_node1_sce2power constraint_2_layer0_node1_sce2power constraint_3_layer0_node1_sce2power Mean_est2 Var_est2 power_pred0_sce1 power_pred0_sce2\n"
     ]
    }
   ],
   "source": [
    "model.pprint()"
   ]
  },
  {
   "cell_type": "code",
   "execution_count": 38,
   "metadata": {},
   "outputs": [
    {
     "name": "stdout",
     "output_type": "stream",
     "text": [
      "\n",
      "Optimization Results:\n",
      "\n",
      "Contextual/Decision Variables (x):\n",
      "('wind_direction', 1): 0.0\n",
      "('wind_direction', 2): 10.0\n",
      "('wind_speed', 1): 8.0\n",
      "('wind_speed', 2): 8.0\n",
      "('x_turb2', 1): 3732.2937033221115\n",
      "('x_turb2', 2): 3732.2937033221115\n",
      "('y_turb2', 1): 94.4988418337002\n",
      "('y_turb2', 2): 94.4988418337002\n"
     ]
    }
   ],
   "source": [
    "# print optimization results\n",
    "print(\"\\nOptimization Results:\")\n",
    "\n",
    "# Print x variables (contextual features and decision variables)\n",
    "print(\"\\nContextual/Decision Variables (x):\")\n",
    "for k in model.x:\n",
    "    print(f\"{k}: {pyo.value(model.x[k])}\")"
   ]
  },
  {
   "cell_type": "code",
   "execution_count": 39,
   "metadata": {},
   "outputs": [
    {
     "name": "stdout",
     "output_type": "stream",
     "text": [
      "Read LP format model from file /var/folders/2j/t8d8dcsn1tg5sc8l4kz4_4ch0000gn/T/tmp0sz44ixj.pyomo.lp\n",
      "Reading time = 0.00 seconds\n",
      "x1: 26 rows, 26 columns, 80 nonzeros\n",
      "Set parameter Threads to value 8\n",
      "Set parameter NonConvex to value 2\n",
      "Gurobi Optimizer version 12.0.1 build v12.0.1rc0 (mac64[x86] - Darwin 24.4.0 24E263)\n",
      "\n",
      "CPU model: Intel(R) Core(TM) i7-9750H CPU @ 2.60GHz\n",
      "Thread count: 6 physical cores, 12 logical processors, using up to 8 threads\n",
      "\n",
      "Non-default parameters:\n",
      "NonConvex  2\n",
      "Threads  8\n",
      "\n",
      "Optimize a model with 26 rows, 26 columns and 80 nonzeros\n",
      "Model fingerprint: 0x8d67b6f8\n",
      "Variable types: 20 continuous, 6 integer (6 binary)\n",
      "Coefficient statistics:\n",
      "  Matrix range     [1e-05, 1e+03]\n",
      "  Objective range  [5e-01, 5e-01]\n",
      "  Bounds range     [1e+00, 1e+00]\n",
      "  RHS range        [4e-02, 3e+03]\n",
      "Presolve removed 18 rows and 20 columns\n",
      "Presolve time: 0.00s\n",
      "Presolved: 8 rows, 6 columns, 24 nonzeros\n",
      "Variable types: 6 continuous, 0 integer (0 binary)\n",
      "\n",
      "Root relaxation: objective 3.350591e+03, 2 iterations, 0.00 seconds (0.00 work units)\n",
      "\n",
      "    Nodes    |    Current Node    |     Objective Bounds      |     Work\n",
      " Expl Unexpl |  Obj  Depth IntInf | Incumbent    BestBd   Gap | It/Node Time\n",
      "\n",
      "*    0     0               0    3350.5911693 3350.59117  0.00%     -    0s\n",
      "\n",
      "Explored 1 nodes (2 simplex iterations) in 0.00 seconds (0.00 work units)\n",
      "Thread count was 8 (of 12 available processors)\n",
      "\n",
      "Solution count 1: 3350.59 \n",
      "\n",
      "Optimal solution found (tolerance 1.00e-04)\n",
      "Best objective 3.350591169255e+03, best bound 3.350591169255e+03, gap 0.0000%\n"
     ]
    }
   ],
   "source": [
    "\n",
    "# Solve the optimization problem\n",
    "solver = SolverFactory('gurobi')\n",
    "solver.options['threads'] = 8\n",
    "solver.options['NonConvex'] = 2\n",
    "results = solver.solve(model, tee=True)"
   ]
  },
  {
   "cell_type": "code",
   "execution_count": 40,
   "metadata": {},
   "outputs": [
    {
     "name": "stdout",
     "output_type": "stream",
     "text": [
      "\n",
      "Optimization Results:\n",
      "\n",
      "Contextual/Decision Variables (x):\n",
      "('wind_direction', 1): 0.0\n",
      "('wind_direction', 2): 10.0\n",
      "('wind_speed', 1): 8.0\n",
      "('wind_speed', 2): 8.0\n",
      "('x_turb2', 1): 3732.2937033221115\n",
      "('x_turb2', 2): 3732.2937033221115\n",
      "('y_turb2', 1): 94.4988418337002\n",
      "('y_turb2', 2): 94.4988418337002\n"
     ]
    }
   ],
   "source": [
    "# print optimization results\n",
    "print(\"\\nOptimization Results:\")\n",
    "\n",
    "# Print x variables (contextual features and decision variables)\n",
    "print(\"\\nContextual/Decision Variables (x):\")\n",
    "for k in model.x:\n",
    "    print(f\"{k}: {pyo.value(model.x[k])}\")\n"
   ]
  },
  {
   "cell_type": "code",
   "execution_count": 41,
   "metadata": {},
   "outputs": [
    {
     "data": {
      "image/png": "[encoded data removed]",
      "text/plain": [
       "<Figure size 1000x600 with 2 Axes>"
      ]
     },
     "metadata": {},
     "output_type": "display_data"
    }
   ],
   "source": [
    "# Visualize the results\n",
    "from scipy.interpolate import griddata\n",
    "\n",
    "\n",
    "\n",
    "\n",
    "# Colormap with interpolation\n",
    "x = data['x_turb2']\n",
    "y = data['y_turb2']\n",
    "z = data['turbine2_powers']\n",
    "xi, yi = np.linspace(x.min(), x.max(), 100), np.linspace(y.min(), y.max(), 100)\n",
    "xi, yi = np.meshgrid(xi, yi)\n",
    "zi = griddata((x, y), z, (xi, yi), method='linear')\n",
    "\n",
    "plt.figure(figsize=(10, 6))\n",
    "plt.contourf(xi, yi, zi, levels=100, cmap='viridis')\n",
    "plt.colorbar(label='Turbine 2 Power')\n",
    "\n",
    "# Mark the position of wind turbine one\n",
    "plt.scatter(0, 0, color='red', label='Turbine 1', s=500, edgecolor='black')\n",
    "\n",
    "# Mark the position of the optimal location of wind turbine 2\n",
    "optimal_x = pyo.value(model.x['x_turb2',1])\n",
    "optimal_y = pyo.value(model.x['y_turb2',1])\n",
    "plt.scatter(optimal_x, optimal_y, color='blue', label='Optimal Turbine 2', s=500, edgecolor='black')\n",
    "\n",
    "plt.legend(loc='upper left', bbox_to_anchor=(-1, 1))\n",
    "\n",
    "# cosmetics \n",
    "plt.xlabel('x_turb2')\n",
    "plt.ylabel('y_turb2')\n",
    "plt.title('Colormap of Turbine 2 Power across x_turb2 and y_turb2 (Interpolated)')\n",
    "plt.grid(True)\n",
    "plt.show()\n"
   ]
  }
 ],
 "metadata": {
  "kernelspec": {
   "display_name": ".venv",
   "language": "python",
   "name": "python3"
  },
  "language_info": {
   "codemirror_mode": {
    "name": "ipython",
    "version": 3
   },
   "file_extension": ".py",
   "mimetype": "text/x-python",
   "name": "python",
   "nbconvert_exporter": "python",
   "pygments_lexer": "ipython3",
   "version": "3.10.0"
  }
 },
 "nbformat": 4,
 "nbformat_minor": 2
}
