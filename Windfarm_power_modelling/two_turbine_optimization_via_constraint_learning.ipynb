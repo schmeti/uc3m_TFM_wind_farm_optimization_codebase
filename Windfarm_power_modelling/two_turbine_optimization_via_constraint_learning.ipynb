{
 "cells": [
  {
   "cell_type": "markdown",
   "metadata": {},
   "source": [
    "# Notebook Containing the data generation, NN Modelling and Optimization Attempts for two windturbines"
   ]
  },
  {
   "cell_type": "code",
   "execution_count": null,
   "metadata": {},
   "outputs": [],
   "source": [
    "import pandas as pd\n",
    "import matplotlib.pyplot as plt\n",
    "\n",
    "# Import Pyomo\n",
    "from pyomo import environ\n",
    "from pyomo.core import *\n",
    "import pyomo.environ as pyo\n",
    "\n",
    "# import constraint Learning Tool\n",
    "import sys\n",
    "import os\n",
    "\n",
    "sys.path.insert(0, os.path.join(os.getcwd(), 'DistCL_code'))\n",
    "from distcl import distcl"
   ]
  },
  {
   "cell_type": "markdown",
   "metadata": {},
   "source": [
    "## Load Data"
   ]
  },
  {
   "cell_type": "code",
   "execution_count": null,
   "metadata": {},
   "outputs": [
    {
     "data": {
      "application/vnd.microsoft.datawrangler.viewer.v0+json": {
       "columns": [
        {
         "name": "index",
         "rawType": "int64",
         "type": "integer"
        },
        {
         "name": "x_turb2",
         "rawType": "int64",
         "type": "integer"
        },
        {
         "name": "y_turb2",
         "rawType": "int64",
         "type": "integer"
        },
        {
         "name": "wind_speed",
         "rawType": "float64",
         "type": "float"
        },
        {
         "name": "wind_direction",
         "rawType": "float64",
         "type": "float"
        },
        {
         "name": "turbulence_intensity",
         "rawType": "float64",
         "type": "float"
        },
        {
         "name": "turbine1_power",
         "rawType": "float64",
         "type": "float"
        },
        {
         "name": "turbine2_powers",
         "rawType": "float64",
         "type": "float"
        },
        {
         "name": "farm_power",
         "rawType": "float64",
         "type": "float"
        }
       ],
       "conversionMethod": "pd.DataFrame",
       "ref": "cecd26a8-c445-4cde-88d1-7c10015f568d",
       "rows": [
        [
         "0",
         "800",
         "0",
         "8.0",
         "270.0",
         "0.06",
         "1753.954459179171",
         "615.0705887166782",
         "2369.025047895849"
        ],
        [
         "1",
         "800",
         "200",
         "8.0",
         "270.0",
         "0.06",
         "1753.954459179171",
         "1751.59341080572",
         "3505.547869984891"
        ],
        [
         "2",
         "800",
         "400",
         "8.0",
         "270.0",
         "0.06",
         "1753.954459179171",
         "1753.9544591778656",
         "3507.9089183570363"
        ],
        [
         "3",
         "800",
         "600",
         "8.0",
         "270.0",
         "0.06",
         "1753.954459179171",
         "1753.954459179171",
         "3507.908918358342"
        ],
        [
         "4",
         "900",
         "0",
         "8.0",
         "270.0",
         "0.06",
         "1753.954459179171",
         "694.0230843771438",
         "2447.9775435563147"
        ]
       ],
       "shape": {
        "columns": 8,
        "rows": 5
       }
      },
      "text/html": [
       "<div>\n",
       "<style scoped>\n",
       "    .dataframe tbody tr th:only-of-type {\n",
       "        vertical-align: middle;\n",
       "    }\n",
       "\n",
       "    .dataframe tbody tr th {\n",
       "        vertical-align: top;\n",
       "    }\n",
       "\n",
       "    .dataframe thead th {\n",
       "        text-align: right;\n",
       "    }\n",
       "</style>\n",
       "<table border=\"1\" class=\"dataframe\">\n",
       "  <thead>\n",
       "    <tr style=\"text-align: right;\">\n",
       "      <th></th>\n",
       "      <th>x_turb2</th>\n",
       "      <th>y_turb2</th>\n",
       "      <th>wind_speed</th>\n",
       "      <th>wind_direction</th>\n",
       "      <th>turbulence_intensity</th>\n",
       "      <th>turbine1_power</th>\n",
       "      <th>turbine2_powers</th>\n",
       "      <th>farm_power</th>\n",
       "    </tr>\n",
       "  </thead>\n",
       "  <tbody>\n",
       "    <tr>\n",
       "      <th>0</th>\n",
       "      <td>800</td>\n",
       "      <td>0</td>\n",
       "      <td>8.0</td>\n",
       "      <td>270.0</td>\n",
       "      <td>0.06</td>\n",
       "      <td>1753.954459</td>\n",
       "      <td>615.070589</td>\n",
       "      <td>2369.025048</td>\n",
       "    </tr>\n",
       "    <tr>\n",
       "      <th>1</th>\n",
       "      <td>800</td>\n",
       "      <td>200</td>\n",
       "      <td>8.0</td>\n",
       "      <td>270.0</td>\n",
       "      <td>0.06</td>\n",
       "      <td>1753.954459</td>\n",
       "      <td>1751.593411</td>\n",
       "      <td>3505.547870</td>\n",
       "    </tr>\n",
       "    <tr>\n",
       "      <th>2</th>\n",
       "      <td>800</td>\n",
       "      <td>400</td>\n",
       "      <td>8.0</td>\n",
       "      <td>270.0</td>\n",
       "      <td>0.06</td>\n",
       "      <td>1753.954459</td>\n",
       "      <td>1753.954459</td>\n",
       "      <td>3507.908918</td>\n",
       "    </tr>\n",
       "    <tr>\n",
       "      <th>3</th>\n",
       "      <td>800</td>\n",
       "      <td>600</td>\n",
       "      <td>8.0</td>\n",
       "      <td>270.0</td>\n",
       "      <td>0.06</td>\n",
       "      <td>1753.954459</td>\n",
       "      <td>1753.954459</td>\n",
       "      <td>3507.908918</td>\n",
       "    </tr>\n",
       "    <tr>\n",
       "      <th>4</th>\n",
       "      <td>900</td>\n",
       "      <td>0</td>\n",
       "      <td>8.0</td>\n",
       "      <td>270.0</td>\n",
       "      <td>0.06</td>\n",
       "      <td>1753.954459</td>\n",
       "      <td>694.023084</td>\n",
       "      <td>2447.977544</td>\n",
       "    </tr>\n",
       "  </tbody>\n",
       "</table>\n",
       "</div>"
      ],
      "text/plain": [
       "   x_turb2  y_turb2  wind_speed  wind_direction  turbulence_intensity  \\\n",
       "0      800        0         8.0           270.0                  0.06   \n",
       "1      800      200         8.0           270.0                  0.06   \n",
       "2      800      400         8.0           270.0                  0.06   \n",
       "3      800      600         8.0           270.0                  0.06   \n",
       "4      900        0         8.0           270.0                  0.06   \n",
       "\n",
       "   turbine1_power  turbine2_powers   farm_power  \n",
       "0     1753.954459       615.070589  2369.025048  \n",
       "1     1753.954459      1751.593411  3505.547870  \n",
       "2     1753.954459      1753.954459  3507.908918  \n",
       "3     1753.954459      1753.954459  3507.908918  \n",
       "4     1753.954459       694.023084  2447.977544  "
      ]
     },
     "execution_count": 1,
     "metadata": {},
     "output_type": "execute_result"
    }
   ],
   "source": [
    "data = pd.read_csv(\"data/two_windturbine.csv\")\n",
    "data.head()"
   ]
  },
  {
   "cell_type": "markdown",
   "metadata": {},
   "source": [
    "# Train NN and generate constraints"
   ]
  },
  {
   "cell_type": "code",
   "execution_count": 3,
   "metadata": {},
   "outputs": [],
   "source": [
    "### Test/Train Split\n",
    "from sklearn.model_selection import train_test_split\n",
    "\n",
    "# Split the data into training, validation, and test sets\n",
    "train_data, temp_data = train_test_split(data, test_size=0.2, random_state=42)\n",
    "val_data, test_data = train_test_split(temp_data, test_size=0.5, random_state=42)\n",
    "\n",
    "val_ind = val_data.index\n",
    "test_ind = test_data.index"
   ]
  },
  {
   "cell_type": "code",
   "execution_count": null,
   "metadata": {},
   "outputs": [
    {
     "name": "stdout",
     "output_type": "stream",
     "text": [
      "DistFCNN(\n",
      "  (lin_layers): ModuleList(\n",
      "    (0): Linear(in_features=5, out_features=40, bias=True)\n",
      "    (1-4): 4 x Linear(in_features=40, out_features=40, bias=True)\n",
      "  )\n",
      "  (output_mean_layer): Linear(in_features=40, out_features=1, bias=True)\n",
      "  (output_sd_layer): Linear(in_features=40, out_features=1, bias=True)\n",
      "  (droput_layers): ModuleList(\n",
      "    (0-4): 5 x Dropout(p=0.05, inplace=False)\n",
      "  )\n",
      ")\n",
      "cpu\n",
      "epoch 0 loss 271792.25\n",
      "epoch 500 loss 16570.66015625\n",
      "epoch 1000 loss 664.5679321289062\n",
      "epoch 1500 loss 699.267822265625\n",
      "epoch 2000 loss 344.8754577636719\n",
      "epoch 2500 loss 447.0191955566406\n",
      "epoch 3000 loss 392.718505859375\n",
      "epoch 3500 loss 243.2452392578125\n",
      "epoch 4000 loss 525.6220703125\n",
      "epoch 4500 loss 548.5674438476562\n",
      "NN fitting process finished with a validation GAUSSIANNLL loss of 150.1251983642578 in epoch 4306\n"
     ]
    },
    {
     "data": {
      "image/png": "[encoded data removed]",
      "text/plain": [
       "<Figure size 1000x600 with 1 Axes>"
      ]
     },
     "metadata": {},
     "output_type": "display_data"
    }
   ],
   "source": [
    "# Retrain the model with the best parameters\n",
    "cl_tool = distcl(X=data[[\"x_turb2\", \"y_turb2\", \"wind_speed\", \"wind_direction\", \"turbulence_intensity\"]],\n",
    "            y=data[\"farm_power\"], n_preds=1, val_ind=val_ind, test_ind=test_ind)\n",
    "\n",
    "model, preds_test, sd_test, y_test = cl_tool.train(n_hidden=5, n_nodes=40, iters=5000, drop=0.05, learning_rate=1e-4)"
   ]
  },
  {
   "cell_type": "code",
   "execution_count": null,
   "metadata": {},
   "outputs": [],
   "source": [
    "cons = cl_tool.constraint_build(model)\n",
    "cons.to_csv('inputs/constraints_twoturbines.csv')\n",
    "cons = pd.read_csv('inputs/constraints_twoturbines.csv', index_col=0)\n",
    "cons"
   ]
  },
  {
   "cell_type": "markdown",
   "metadata": {},
   "source": [
    "# Optimization Model\n",
    "\n",
    "\n",
    "\n",
    "### Decision Variables\n",
    "\\( x \\): x-coordinate of the second turbine relative to the first.\n",
    "\\( y \\): y-coordinate of the second turbine relative to the first.\n",
    "\n",
    "### **Objective Function**\n",
    "$$ \\max_{x, y} P(x, y) $$\n",
    "\n",
    "### Constraints\n",
    "$ x_{\\min} \\leq x \\leq x_{\\max} $\n",
    "   \n",
    "$ y_{\\min} \\leq y \\leq y_{\\max} $\n"
   ]
  },
  {
   "cell_type": "code",
   "execution_count": null,
   "metadata": {},
   "outputs": [
    {
     "ename": "NameError",
     "evalue": "name 'objective_function' is not defined",
     "output_type": "error",
     "traceback": [
      "\u001b[0;31m---------------------------------------------------------------------------\u001b[0m",
      "\u001b[0;31mNameError\u001b[0m                                 Traceback (most recent call last)",
      "Cell \u001b[0;32mIn[17], line 10\u001b[0m\n\u001b[1;32m      7\u001b[0m model\u001b[38;5;241m.\u001b[39mx_turb2 \u001b[38;5;241m=\u001b[39m Var(within\u001b[38;5;241m=\u001b[39mPositiveReals, bounds\u001b[38;5;241m=\u001b[39m(\u001b[38;5;241m800\u001b[39m, \u001b[38;5;241m5000\u001b[39m))\n\u001b[1;32m      8\u001b[0m model\u001b[38;5;241m.\u001b[39my_turb2 \u001b[38;5;241m=\u001b[39m Var(within\u001b[38;5;241m=\u001b[39mPositiveReals, bounds\u001b[38;5;241m=\u001b[39m(\u001b[38;5;241m0\u001b[39m, \u001b[38;5;241m600\u001b[39m))\n\u001b[0;32m---> 10\u001b[0m model\u001b[38;5;241m.\u001b[39mobjective \u001b[38;5;241m=\u001b[39m Objective(rule\u001b[38;5;241m=\u001b[39m\u001b[43mobjective_function\u001b[49m, sense\u001b[38;5;241m=\u001b[39mminimize)\n\u001b[1;32m     12\u001b[0m \u001b[38;5;66;03m# Define constraints if any (for example, minimum distance between turbines)\u001b[39;00m\n\u001b[1;32m     13\u001b[0m \u001b[38;5;28;01mdef\u001b[39;00m\u001b[38;5;250m \u001b[39m\u001b[38;5;21mdistance_constraint\u001b[39m(model):\n",
      "\u001b[0;31mNameError\u001b[0m: name 'objective_function' is not defined"
     ]
    }
   ],
   "source": [
    "from pyomo.environ import ConcreteModel, Var, Objective, Constraint, SolverFactory, minimize, value\n",
    "\n",
    "# Define the optimization model\n",
    "model = ConcreteModel()\n",
    "\n",
    "# Define decision variables for the x and y coordinates of turbine 2\n",
    "model.x_turb2 = Var(within=PositiveReals, bounds=(800, 5000))\n",
    "model.y_turb2 = Var(within=PositiveReals, bounds=(0, 600))\n",
    "\n",
    "model.objective = Objective(rule=objective_function, sense=minimize)\n",
    "\n",
    "# Define constraints if any (for example, minimum distance between turbines)\n",
    "def distance_constraint(model):\n",
    "    return ((model.x_turb2 - 0)**2 + (model.y_turb2 - 0)**2) >= 400**2  # Example constraint\n",
    "\n",
    "model.distance_constraint = Constraint(rule=distance_constraint)\n",
    "\n",
    "cl_tool.const_embed(opt_model=model, constaints=cons, outcome='power', n_scenarios=300)\n",
    "\n",
    "\n",
    "# Solve the optimization problem\n",
    "solver = SolverFactory('gurobi')\n",
    "solver.options['threads'] = 8\n",
    "solver.options['NonConvex'] = 2\n",
    "results = solver.solve(model, tee=True)\n",
    "\n",
    "\n"
   ]
  },
  {
   "cell_type": "code",
   "execution_count": null,
   "metadata": {},
   "outputs": [],
   "source": [
    "\n",
    "\n",
    "# Get the optimized coordinates and farm power\n",
    "optimized_x_turb2 = value(model.x_turb2)\n",
    "optimized_y_turb2 = value(model.y_turb2)\n",
    "turbine_powers, optimized_farm_power = two_turbine_simulation(fmodel, \n",
    "                                                              x_turb2=optimized_x_turb2, \n",
    "                                                              y_turb2=optimized_y_turb2,\n",
    "                                                              wind_speeds=wind_speeds, \n",
    "                                                              wind_directions=wind_directions, \n",
    "                                                              turbulence_intensities=turbulence_intensities)\n",
    "\n",
    "print(f\"Optimized x coordinate of turbine 2: {optimized_x_turb2}\")\n",
    "print(f\"Optimized y coordinate of turbine 2: {optimized_y_turb2}\")\n",
    "print(f\"Optimized farm power: {optimized_farm_power[0]}\")"
   ]
  }
 ],
 "metadata": {
  "kernelspec": {
   "display_name": ".venv",
   "language": "python",
   "name": "python3"
  },
  "language_info": {
   "codemirror_mode": {
    "name": "ipython",
    "version": 3
   },
   "file_extension": ".py",
   "mimetype": "text/x-python",
   "name": "python",
   "nbconvert_exporter": "python",
   "pygments_lexer": "ipython3",
   "version": "3.10.0"
  }
 },
 "nbformat": 4,
 "nbformat_minor": 2
}
