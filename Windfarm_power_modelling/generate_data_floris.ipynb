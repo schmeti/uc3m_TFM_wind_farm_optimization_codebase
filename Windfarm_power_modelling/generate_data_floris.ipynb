{
 "cells": [
  {
   "cell_type": "code",
   "execution_count": 2,
   "metadata": {},
   "outputs": [],
   "source": [
    "### Simulate \n",
    "from floris import FlorisModel\n",
    "from src.simulate_data import two_turbine_simulation\n",
    "from src.simulate_data import two_turbine_simulation_data_generation\n",
    "\n",
    "\n",
    "fmodel = FlorisModel(\"inputs/gch.yaml\")\n",
    "power = two_turbine_simulation(fmodel,x_turb2 = 800, y_turb2 = 0)"
   ]
  },
  {
   "cell_type": "code",
   "execution_count": null,
   "metadata": {},
   "outputs": [],
   "source": [
    "### Plot\n",
    "\n",
    "import matplotlib.pyplot as plt\n",
    "import floris.layout_visualization as layoutviz\n",
    "from floris.flow_visualization import visualize_cut_plane\n",
    "\n",
    "horizontal_plane = fmodel.calculate_horizontal_plane(\n",
    "    x_resolution=200,\n",
    "    y_resolution=100,\n",
    "    height=90.0,\n",
    ")\n",
    "\n",
    "turbine_names = [\"T1\", \"T2\"]\n",
    "\n",
    "fig, ax = plt.subplots()\n",
    "visualize_cut_plane(\n",
    "    horizontal_plane,\n",
    "    ax=ax,\n",
    "    label_contours=False,\n",
    "    title=\"Horizontal Flow with Turbine Rotors and labels\",\n",
    ")\n",
    "\n",
    "# Plot the turbine rotors\n",
    "layoutviz.plot_turbine_rotors(fmodel, ax=ax)\n",
    "layoutviz.plot_turbine_labels(fmodel, ax=ax, turbine_names=turbine_names)\n",
    "\n",
    "plt.show()"
   ]
  },
  {
   "cell_type": "code",
   "execution_count": 8,
   "metadata": {},
   "outputs": [
    {
     "data": {
      "application/vnd.microsoft.datawrangler.viewer.v0+json": {
       "columns": [
        {
         "name": "index",
         "rawType": "int64",
         "type": "integer"
        },
        {
         "name": "x_turb2",
         "rawType": "float64",
         "type": "float"
        },
        {
         "name": "y_turb2",
         "rawType": "float64",
         "type": "float"
        },
        {
         "name": "wind_speed",
         "rawType": "float64",
         "type": "float"
        },
        {
         "name": "wind_direction",
         "rawType": "float64",
         "type": "float"
        },
        {
         "name": "turbulence_intensity",
         "rawType": "float64",
         "type": "float"
        },
        {
         "name": "turbine1_power",
         "rawType": "float64",
         "type": "float"
        },
        {
         "name": "turbine2_powers",
         "rawType": "float64",
         "type": "float"
        },
        {
         "name": "farm_power",
         "rawType": "float64",
         "type": "float"
        }
       ],
       "conversionMethod": "pd.DataFrame",
       "ref": "8c4e94df-c4dc-4cac-89c2-fabbe4f0e2a9",
       "rows": [
        [
         "0",
         "800.0",
         "0.0",
         "8.0",
         "270.0",
         "0.06",
         "1753.954459179171",
         "615.0705887166782",
         "2369.025047895849"
        ],
        [
         "1",
         "800.0",
         "200.0",
         "8.0",
         "270.0",
         "0.06",
         "1753.954459179171",
         "1751.59341080572",
         "3505.547869984891"
        ],
        [
         "2",
         "800.0",
         "400.0",
         "8.0",
         "270.0",
         "0.06",
         "1753.954459179171",
         "1753.9544591778656",
         "3507.9089183570363"
        ],
        [
         "3",
         "900.0",
         "0.0",
         "8.0",
         "270.0",
         "0.06",
         "1753.954459179171",
         "694.0230843771438",
         "2447.9775435563147"
        ],
        [
         "4",
         "900.0",
         "200.0",
         "8.0",
         "270.0",
         "0.06",
         "1753.954459179171",
         "1750.2127240567606",
         "3504.167183235931"
        ]
       ],
       "shape": {
        "columns": 8,
        "rows": 5
       }
      },
      "text/html": [
       "<div>\n",
       "<style scoped>\n",
       "    .dataframe tbody tr th:only-of-type {\n",
       "        vertical-align: middle;\n",
       "    }\n",
       "\n",
       "    .dataframe tbody tr th {\n",
       "        vertical-align: top;\n",
       "    }\n",
       "\n",
       "    .dataframe thead th {\n",
       "        text-align: right;\n",
       "    }\n",
       "</style>\n",
       "<table border=\"1\" class=\"dataframe\">\n",
       "  <thead>\n",
       "    <tr style=\"text-align: right;\">\n",
       "      <th></th>\n",
       "      <th>x_turb2</th>\n",
       "      <th>y_turb2</th>\n",
       "      <th>wind_speed</th>\n",
       "      <th>wind_direction</th>\n",
       "      <th>turbulence_intensity</th>\n",
       "      <th>turbine1_power</th>\n",
       "      <th>turbine2_powers</th>\n",
       "      <th>farm_power</th>\n",
       "    </tr>\n",
       "  </thead>\n",
       "  <tbody>\n",
       "    <tr>\n",
       "      <th>0</th>\n",
       "      <td>800.0</td>\n",
       "      <td>0.0</td>\n",
       "      <td>8.0</td>\n",
       "      <td>270.0</td>\n",
       "      <td>0.06</td>\n",
       "      <td>1753.954459</td>\n",
       "      <td>615.070589</td>\n",
       "      <td>2369.025048</td>\n",
       "    </tr>\n",
       "    <tr>\n",
       "      <th>1</th>\n",
       "      <td>800.0</td>\n",
       "      <td>200.0</td>\n",
       "      <td>8.0</td>\n",
       "      <td>270.0</td>\n",
       "      <td>0.06</td>\n",
       "      <td>1753.954459</td>\n",
       "      <td>1751.593411</td>\n",
       "      <td>3505.547870</td>\n",
       "    </tr>\n",
       "    <tr>\n",
       "      <th>2</th>\n",
       "      <td>800.0</td>\n",
       "      <td>400.0</td>\n",
       "      <td>8.0</td>\n",
       "      <td>270.0</td>\n",
       "      <td>0.06</td>\n",
       "      <td>1753.954459</td>\n",
       "      <td>1753.954459</td>\n",
       "      <td>3507.908918</td>\n",
       "    </tr>\n",
       "    <tr>\n",
       "      <th>3</th>\n",
       "      <td>900.0</td>\n",
       "      <td>0.0</td>\n",
       "      <td>8.0</td>\n",
       "      <td>270.0</td>\n",
       "      <td>0.06</td>\n",
       "      <td>1753.954459</td>\n",
       "      <td>694.023084</td>\n",
       "      <td>2447.977544</td>\n",
       "    </tr>\n",
       "    <tr>\n",
       "      <th>4</th>\n",
       "      <td>900.0</td>\n",
       "      <td>200.0</td>\n",
       "      <td>8.0</td>\n",
       "      <td>270.0</td>\n",
       "      <td>0.06</td>\n",
       "      <td>1753.954459</td>\n",
       "      <td>1750.212724</td>\n",
       "      <td>3504.167183</td>\n",
       "    </tr>\n",
       "  </tbody>\n",
       "</table>\n",
       "</div>"
      ],
      "text/plain": [
       "   x_turb2  y_turb2  wind_speed  wind_direction  turbulence_intensity  \\\n",
       "0    800.0      0.0         8.0           270.0                  0.06   \n",
       "1    800.0    200.0         8.0           270.0                  0.06   \n",
       "2    800.0    400.0         8.0           270.0                  0.06   \n",
       "3    900.0      0.0         8.0           270.0                  0.06   \n",
       "4    900.0    200.0         8.0           270.0                  0.06   \n",
       "\n",
       "   turbine1_power  turbine2_powers   farm_power  \n",
       "0     1753.954459       615.070589  2369.025048  \n",
       "1     1753.954459      1751.593411  3505.547870  \n",
       "2     1753.954459      1753.954459  3507.908918  \n",
       "3     1753.954459       694.023084  2447.977544  \n",
       "4     1753.954459      1750.212724  3504.167183  "
      ]
     },
     "execution_count": 8,
     "metadata": {},
     "output_type": "execute_result"
    }
   ],
   "source": [
    "# Generate data using two_turbine_simulation_data_generation\n",
    "data = two_turbine_simulation_data_generation(fmodel, \n",
    "                                              x_range=(800, 5000, 100), \n",
    "                                              y_range=(0, 600, 200),\n",
    "                                              wind_speeds=[8.0],\n",
    "                                              wind_directions=[270.0],\n",
    "                                              turbulence_intensities=[0.06],\n",
    "                                              dtype=float\n",
    "                                              )\n",
    "\n",
    "# Display the first few rows of the generated data\n",
    "data.head()\n",
    "\n",
    "# Save the generated data to a CSV file\n",
    "#data.to_csv('data/two_turbine_simulation_data.csv', index=False)"
   ]
  }
 ],
 "metadata": {
  "kernelspec": {
   "display_name": ".venv",
   "language": "python",
   "name": "python3"
  },
  "language_info": {
   "codemirror_mode": {
    "name": "ipython",
    "version": 3
   },
   "file_extension": ".py",
   "mimetype": "text/x-python",
   "name": "python",
   "nbconvert_exporter": "python",
   "pygments_lexer": "ipython3",
   "version": "3.10.0"
  }
 },
 "nbformat": 4,
 "nbformat_minor": 2
}
