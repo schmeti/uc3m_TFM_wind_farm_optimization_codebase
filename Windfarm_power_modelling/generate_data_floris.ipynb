{
 "cells": [
  {
   "cell_type": "code",
   "execution_count": 2,
   "metadata": {},
   "outputs": [],
   "source": [
    "### Simulate \n",
    "from floris import FlorisModel\n",
    "from src.simulate_data import two_turbine_simulation\n",
    "\n",
    "fmodel = FlorisModel(\"inputs/gch.yaml\")\n",
    "power = two_turbine_simulation(fmodel,x_turb2 = 800, y_turb2 = 0)"
   ]
  },
  {
   "cell_type": "code",
   "execution_count": null,
   "metadata": {},
   "outputs": [],
   "source": [
    "### Plot\n",
    "\n",
    "import matplotlib.pyplot as plt\n",
    "import floris.layout_visualization as layoutviz\n",
    "from floris.flow_visualization import visualize_cut_plane\n",
    "\n",
    "horizontal_plane = fmodel.calculate_horizontal_plane(\n",
    "    x_resolution=200,\n",
    "    y_resolution=100,\n",
    "    height=90.0,\n",
    ")\n",
    "\n",
    "turbine_names = [\"T1\", \"T2\"]\n",
    "\n",
    "fig, ax = plt.subplots()\n",
    "visualize_cut_plane(\n",
    "    horizontal_plane,\n",
    "    ax=ax,\n",
    "    label_contours=False,\n",
    "    title=\"Horizontal Flow with Turbine Rotors and labels\",\n",
    ")\n",
    "\n",
    "# Plot the turbine rotors\n",
    "layoutviz.plot_turbine_rotors(fmodel, ax=ax)\n",
    "layoutviz.plot_turbine_labels(fmodel, ax=ax, turbine_names=turbine_names)\n",
    "\n",
    "plt.show()"
   ]
  },
  {
   "cell_type": "code",
   "execution_count": 5,
   "metadata": {},
   "outputs": [
    {
     "name": "stderr",
     "output_type": "stream",
     "text": [
      "/var/folders/2j/t8d8dcsn1tg5sc8l4kz4_4ch0000gn/T/ipykernel_51287/3202639967.py:31: FutureWarning: The behavior of DataFrame concatenation with empty or all-NA entries is deprecated. In a future version, this will no longer exclude empty or all-NA columns when determining the result dtypes. To retain the old behavior, exclude the relevant entries before the concat operation.\n",
      "  data = pd.concat([data, new_row], ignore_index=True)\n"
     ]
    }
   ],
   "source": [
    "# generate data set for the two turbine simulation\n",
    "import pandas as pd\n",
    "from src.simulate_data import two_turbine_simulation\n",
    "\n",
    "fmodel = FlorisModel(\"inputs/gch.yaml\")\n",
    "data= pd.DataFrame(columns=['x_turb2', 'y_turb2', 'wind_speed', 'wind_direction', 'turbulence_intensity', 'turbine1_power', 'turbine2_powers', 'farm_power'])\n",
    "\n",
    "for x_turb2 in range(800, 5000, 100):\n",
    "    for y_turb2 in [0,200,400,600]:\n",
    "        # params\n",
    "        wind_speeds=[8.0]\n",
    "        wind_directions=[270.0]\n",
    "        turbulence_intensities=[0.06]\n",
    "\n",
    "        turbine_powers, farm_power = two_turbine_simulation(fmodel, \n",
    "                                                            x_turb2=x_turb2, \n",
    "                                                            y_turb2=y_turb2,\n",
    "                                                            wind_speeds=wind_speeds, \n",
    "                                                            wind_directions=wind_directions, \n",
    "                                                            turbulence_intensities=turbulence_intensities)\n",
    "\n",
    "        new_row = pd.DataFrame({'x_turb2': [x_turb2], \n",
    "                                'y_turb2': [y_turb2],\n",
    "                                'wind_speed': wind_speeds,\n",
    "                                'wind_direction': wind_directions,\n",
    "                                'turbulence_intensity': turbulence_intensities,\n",
    "                                'turbine1_power': turbine_powers[0][0],\n",
    "                                'turbine2_powers': turbine_powers[0][1], \n",
    "                                'farm_power': farm_power[0]},\n",
    "                                )\n",
    "        data = pd.concat([data, new_row], ignore_index=True)\n",
    "\n",
    "data.head()\n",
    "data.to_csv('data/two_windturbine.csv', index=False)\n",
    "\n"
   ]
  }
 ],
 "metadata": {
  "kernelspec": {
   "display_name": ".venv",
   "language": "python",
   "name": "python3"
  },
  "language_info": {
   "codemirror_mode": {
    "name": "ipython",
    "version": 3
   },
   "file_extension": ".py",
   "mimetype": "text/x-python",
   "name": "python",
   "nbconvert_exporter": "python",
   "pygments_lexer": "ipython3",
   "version": "3.10.0"
  }
 },
 "nbformat": 4,
 "nbformat_minor": 2
}
